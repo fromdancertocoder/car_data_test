{
 "cells": [
  {
   "cell_type": "code",
   "execution_count": 1,
   "id": "6e99644e",
   "metadata": {},
   "outputs": [
    {
     "name": "stdout",
     "output_type": "stream",
     "text": [
      "   year   make                model        trim   body transmission  \\\n",
      "0  2015    Kia              Sorento          LX    SUV    automatic   \n",
      "1  2015    Kia              Sorento          LX    SUV    automatic   \n",
      "2  2014    BMW             3 Series  328i SULEV  Sedan    automatic   \n",
      "3  2015  Volvo                  S60          T5  Sedan    automatic   \n",
      "4  2014    BMW  6 Series Gran Coupe        650i  Sedan    automatic   \n",
      "\n",
      "                 vin state  condition  odometer  color interior  \\\n",
      "0  5xyktca69fg566472    ca        5.0   16639.0  white    black   \n",
      "1  5xyktca69fg561319    ca        5.0    9393.0  white    beige   \n",
      "2  wba3c1c51ek116351    ca       45.0    1331.0   gray    black   \n",
      "3  yv1612tb4f1310987    ca       41.0   14282.0  white    black   \n",
      "4  wba6b2c57ed129731    ca       43.0    2641.0   gray    black   \n",
      "\n",
      "                                   seller      mmr  sellingprice  \\\n",
      "0                 kia motors america  inc  20500.0       21500.0   \n",
      "1                 kia motors america  inc  20800.0       21500.0   \n",
      "2  financial services remarketing (lease)  31900.0       30000.0   \n",
      "3                 volvo na rep/world omni  27500.0       27750.0   \n",
      "4  financial services remarketing (lease)  66000.0       67000.0   \n",
      "\n",
      "                                  saledate  \n",
      "0  Tue Dec 16 2014 12:30:00 GMT-0800 (PST)  \n",
      "1  Tue Dec 16 2014 12:30:00 GMT-0800 (PST)  \n",
      "2  Thu Jan 15 2015 04:30:00 GMT-0800 (PST)  \n",
      "3  Thu Jan 29 2015 04:30:00 GMT-0800 (PST)  \n",
      "4  Thu Dec 18 2014 12:30:00 GMT-0800 (PST)  \n"
     ]
    }
   ],
   "source": [
    "import pandas as pd\n",
    "import matplotlib.pyplot as plt\n",
    "\n",
    "data_raw = pd.read_csv('car_prices.csv')\n",
    "print(data_raw.head())"
   ]
  },
  {
   "cell_type": "code",
   "execution_count": 4,
   "id": "2f029a75",
   "metadata": {},
   "outputs": [
    {
     "name": "stdout",
     "output_type": "stream",
     "text": [
      "   year   make                model        trim   body transmission  \\\n",
      "0  2015    Kia              Sorento          LX    SUV    automatic   \n",
      "1  2015    Kia              Sorento          LX    SUV    automatic   \n",
      "2  2014    BMW             3 Series  328i SULEV  Sedan    automatic   \n",
      "3  2015  Volvo                  S60          T5  Sedan    automatic   \n",
      "4  2014    BMW  6 Series Gran Coupe        650i  Sedan    automatic   \n",
      "\n",
      "                 vin state  condition  odometer  color interior  \\\n",
      "0  5xyktca69fg566472    ca        5.0   16639.0  white    black   \n",
      "1  5xyktca69fg561319    ca        5.0    9393.0  white    beige   \n",
      "2  wba3c1c51ek116351    ca       45.0    1331.0   gray    black   \n",
      "3  yv1612tb4f1310987    ca       41.0   14282.0  white    black   \n",
      "4  wba6b2c57ed129731    ca       43.0    2641.0   gray    black   \n",
      "\n",
      "                                   seller      mmr  sellingprice  \\\n",
      "0                 kia motors america  inc  20500.0       21500.0   \n",
      "1                 kia motors america  inc  20800.0       21500.0   \n",
      "2  financial services remarketing (lease)  31900.0       30000.0   \n",
      "3                 volvo na rep/world omni  27500.0       27750.0   \n",
      "4  financial services remarketing (lease)  66000.0       67000.0   \n",
      "\n",
      "                                  saledate   day  \n",
      "0  Tue Dec 16 2014 12:30:00 GMT-0800 (PST)  Tue   \n",
      "1  Tue Dec 16 2014 12:30:00 GMT-0800 (PST)  Tue   \n",
      "2  Thu Jan 15 2015 04:30:00 GMT-0800 (PST)  Thu   \n",
      "3  Thu Jan 29 2015 04:30:00 GMT-0800 (PST)  Thu   \n",
      "4  Thu Dec 18 2014 12:30:00 GMT-0800 (PST)  Thu   \n"
     ]
    }
   ],
   "source": [
    "data_raw['day'] = data_raw['saledate'].str[:4]\n",
    "print(data_raw.head())"
   ]
  },
  {
   "cell_type": "code",
   "execution_count": 7,
   "id": "556fc98a",
   "metadata": {},
   "outputs": [],
   "source": [
    "data_raw['saledate_drop'] = data_raw['saledate'].str[3:]"
   ]
  },
  {
   "cell_type": "code",
   "execution_count": 8,
   "id": "6df46ffe",
   "metadata": {},
   "outputs": [
    {
     "name": "stdout",
     "output_type": "stream",
     "text": [
      "   year   make                model        trim   body transmission  \\\n",
      "0  2015    Kia              Sorento          LX    SUV    automatic   \n",
      "1  2015    Kia              Sorento          LX    SUV    automatic   \n",
      "2  2014    BMW             3 Series  328i SULEV  Sedan    automatic   \n",
      "3  2015  Volvo                  S60          T5  Sedan    automatic   \n",
      "4  2014    BMW  6 Series Gran Coupe        650i  Sedan    automatic   \n",
      "\n",
      "                 vin state  condition  odometer  color interior  \\\n",
      "0  5xyktca69fg566472    ca        5.0   16639.0  white    black   \n",
      "1  5xyktca69fg561319    ca        5.0    9393.0  white    beige   \n",
      "2  wba3c1c51ek116351    ca       45.0    1331.0   gray    black   \n",
      "3  yv1612tb4f1310987    ca       41.0   14282.0  white    black   \n",
      "4  wba6b2c57ed129731    ca       43.0    2641.0   gray    black   \n",
      "\n",
      "                                   seller      mmr  sellingprice  \\\n",
      "0                 kia motors america  inc  20500.0       21500.0   \n",
      "1                 kia motors america  inc  20800.0       21500.0   \n",
      "2  financial services remarketing (lease)  31900.0       30000.0   \n",
      "3                 volvo na rep/world omni  27500.0       27750.0   \n",
      "4  financial services remarketing (lease)  66000.0       67000.0   \n",
      "\n",
      "                                  saledate   day  \\\n",
      "0  Tue Dec 16 2014 12:30:00 GMT-0800 (PST)  Tue    \n",
      "1  Tue Dec 16 2014 12:30:00 GMT-0800 (PST)  Tue    \n",
      "2  Thu Jan 15 2015 04:30:00 GMT-0800 (PST)  Thu    \n",
      "3  Thu Jan 29 2015 04:30:00 GMT-0800 (PST)  Thu    \n",
      "4  Thu Dec 18 2014 12:30:00 GMT-0800 (PST)  Thu    \n",
      "\n",
      "                          saledate_drop  mmr_diff  \n",
      "0   Dec 16 2014 12:30:00 GMT-0800 (PST)    1000.0  \n",
      "1   Dec 16 2014 12:30:00 GMT-0800 (PST)     700.0  \n",
      "2   Jan 15 2015 04:30:00 GMT-0800 (PST)   -1900.0  \n",
      "3   Jan 29 2015 04:30:00 GMT-0800 (PST)     250.0  \n",
      "4   Dec 18 2014 12:30:00 GMT-0800 (PST)    1000.0  \n"
     ]
    }
   ],
   "source": [
    "data_raw['mmr_diff'] = data_raw['sellingprice'] - data_raw['mmr']\n",
    "print(data_raw.head())"
   ]
  },
  {
   "cell_type": "code",
   "execution_count": 12,
   "id": "b7e9f036",
   "metadata": {},
   "outputs": [
    {
     "name": "stdout",
     "output_type": "stream",
     "text": [
      "   year   make                model        trim   body transmission  \\\n",
      "0  2015    kia              Sorento          LX    SUV    automatic   \n",
      "1  2015    kia              Sorento          LX    SUV    automatic   \n",
      "2  2014    bmw             3 Series  328i SULEV  Sedan    automatic   \n",
      "3  2015  volvo                  S60          T5  Sedan    automatic   \n",
      "4  2014    bmw  6 Series Gran Coupe        650i  Sedan    automatic   \n",
      "\n",
      "                 vin state  condition  odometer  color interior  \\\n",
      "0  5xyktca69fg566472    ca        5.0   16639.0  white    black   \n",
      "1  5xyktca69fg561319    ca        5.0    9393.0  white    beige   \n",
      "2  wba3c1c51ek116351    ca       45.0    1331.0   gray    black   \n",
      "3  yv1612tb4f1310987    ca       41.0   14282.0  white    black   \n",
      "4  wba6b2c57ed129731    ca       43.0    2641.0   gray    black   \n",
      "\n",
      "                                   seller      mmr  sellingprice  \\\n",
      "0                 kia motors america  inc  20500.0       21500.0   \n",
      "1                 kia motors america  inc  20800.0       21500.0   \n",
      "2  financial services remarketing (lease)  31900.0       30000.0   \n",
      "3                 volvo na rep/world omni  27500.0       27750.0   \n",
      "4  financial services remarketing (lease)  66000.0       67000.0   \n",
      "\n",
      "                                  saledate   day  \\\n",
      "0  Tue Dec 16 2014 12:30:00 GMT-0800 (PST)  Tue    \n",
      "1  Tue Dec 16 2014 12:30:00 GMT-0800 (PST)  Tue    \n",
      "2  Thu Jan 15 2015 04:30:00 GMT-0800 (PST)  Thu    \n",
      "3  Thu Jan 29 2015 04:30:00 GMT-0800 (PST)  Thu    \n",
      "4  Thu Dec 18 2014 12:30:00 GMT-0800 (PST)  Thu    \n",
      "\n",
      "                          saledate_drop  mmr_diff  \n",
      "0   Dec 16 2014 12:30:00 GMT-0800 (PST)    1000.0  \n",
      "1   Dec 16 2014 12:30:00 GMT-0800 (PST)     700.0  \n",
      "2   Jan 15 2015 04:30:00 GMT-0800 (PST)   -1900.0  \n",
      "3   Jan 29 2015 04:30:00 GMT-0800 (PST)     250.0  \n",
      "4   Dec 18 2014 12:30:00 GMT-0800 (PST)    1000.0  \n"
     ]
    }
   ],
   "source": [
    "data_raw['make'] = data_raw['make'].str.lower()\n",
    "print(data_raw.head())"
   ]
  },
  {
   "cell_type": "code",
   "execution_count": null,
   "id": "8b8f1798",
   "metadata": {},
   "outputs": [],
   "source": []
  },
  {
   "cell_type": "code",
   "execution_count": 13,
   "id": "b2670def",
   "metadata": {},
   "outputs": [
    {
     "name": "stdout",
     "output_type": "stream",
     "text": [
      "['kia' 'bmw' 'volvo' 'nissan' 'chevrolet' 'audi' 'ford' 'hyundai' 'buick'\n",
      " 'cadillac' 'acura' 'lexus' 'infiniti' 'jeep' 'mercedes-benz' 'mitsubishi'\n",
      " 'mazda' 'mini' 'land rover' 'lincoln' 'jaguar' 'volkswagen' 'toyota'\n",
      " 'subaru' 'scion' 'porsche' nan 'dodge' 'fiat' 'chrysler' 'ferrari'\n",
      " 'honda' 'gmc' 'ram' 'smart' 'bentley' 'pontiac' 'saturn' 'maserati'\n",
      " 'mercury' 'hummer' 'landrover' 'mercedes' 'gmc truck' 'saab' 'suzuki'\n",
      " 'oldsmobile' 'isuzu' 'dodge tk' 'geo' 'rolls-royce' 'mazda tk'\n",
      " 'hyundai tk' 'mercedes-b' 'vw' 'daewoo' 'chev truck' 'ford tk' 'plymouth'\n",
      " 'ford truck' 'tesla' 'airstream' 'dot' 'aston martin' 'fisker'\n",
      " 'lamborghini' 'lotus']\n"
     ]
    }
   ],
   "source": [
    "print(data_raw.make.unique())"
   ]
  },
  {
   "cell_type": "code",
   "execution_count": 15,
   "id": "d0fd17af",
   "metadata": {},
   "outputs": [
    {
     "name": "stdout",
     "output_type": "stream",
     "text": [
      "['kia' 'bmw' 'volvo' 'nissan' 'chevrolet' 'audi' 'ford' 'hyundai' 'buick'\n",
      " 'cadillac' 'acura' 'lexus' 'infiniti' 'jeep' 'mercedes' 'mitsubishi'\n",
      " 'mazda' 'mini' 'landrover' 'lincoln' 'jaguar' 'volkswagen' 'toyota'\n",
      " 'subaru' 'scion' 'porsche' nan 'dodge' 'fiat' 'chrysler' 'ferrari'\n",
      " 'honda' 'gmc' 'smart' 'bentley' 'pontiac' 'saturn' 'maserati' 'mercury'\n",
      " 'hummer' 'saab' 'suzuki' 'oldsmobile' 'isuzu' 'geo' 'rolls-royce' 'vw'\n",
      " 'daewoo' 'plymouth' 'tesla' 'airstream' 'dot' 'aston martin' 'fisker'\n",
      " 'lamborghini' 'lotus']\n"
     ]
    }
   ],
   "source": [
    "data_raw.make.replace({'land rover': 'landrover', 'mercedes-benz':'mercedes', 'mercedes-b':'mercedes', \n",
    "                       'ram':'dodge', 'gmc truck':'gmc', 'dodge tk':'dodge', 'mazda tk': 'mazda', 'hyundai tk': 'hyundai',\n",
    "                      'chev truck':'chevrolet', 'ford tk':'ford', 'ford truck':'ford'}, inplace=True)\n",
    " \n",
    "print(data_raw.make.unique())"
   ]
  },
  {
   "cell_type": "code",
   "execution_count": 23,
   "id": "eb840133",
   "metadata": {},
   "outputs": [
    {
     "name": "stdout",
     "output_type": "stream",
     "text": [
      "['suv' 'sedan' 'convertible' 'coupe' 'wagon' 'hatchback' 'truck' 'g coupe'\n",
      " 'g sedan' 'elantra coupe' 'genesis coupe' 'minivan' nan 'van' 'supercrew'\n",
      " 'cts coupe' 'e-series van' 'g convertible' 'koup' 'cts-v coupe'\n",
      " 'g37 convertible' 'q60 convertible' 'cts wagon' 'g37 coupe' 'q60 coupe'\n",
      " 'beetle convertible' 'tsx sport wagon' 'promaster cargo van'\n",
      " 'granturismo convertible' 'cts-v wagon' 'ram van' 'transit van'\n",
      " 'navitgation']\n",
      "['suv' 'sedan' 'convertible' 'coupe' 'wagon' 'hatchback' 'truck' 'g coupe'\n",
      " 'g sedan' 'elantra coupe' 'genesis coupe' 'minivan' nan 'van' 'supercrew'\n",
      " 'cts coupe' 'e-series van' 'g convertible' 'koup' 'cts-v coupe'\n",
      " 'g37 convertible' 'q60 convertible' 'cts wagon' 'g37 coupe' 'q60 coupe'\n",
      " 'beetle convertible' 'tsx sport wagon' 'promaster cargo van'\n",
      " 'granturismo convertible' 'cts-v wagon' 'ram van' 'transit van'\n",
      " 'navitgation']\n",
      "33\n"
     ]
    }
   ],
   "source": [
    "print(data_raw.body.unique())\n",
    "data_raw['body'] = data_raw['body'].str.lower()\n",
    "print(data_raw.body.unique())\n",
    "print(len(data_raw.body.unique()))"
   ]
  },
  {
   "cell_type": "code",
   "execution_count": 21,
   "id": "3209a6f9",
   "metadata": {},
   "outputs": [
    {
     "name": "stdout",
     "output_type": "stream",
     "text": [
      "['suv' 'sedan' 'convertible' 'coupe' 'wagon' 'hatchback' 'truck' 'g coupe'\n",
      " 'g sedan' 'elantra coupe' 'genesis coupe' 'minivan' nan 'van' 'supercrew'\n",
      " 'cts coupe' 'e-series van' 'g convertible' 'koup' 'cts-v coupe'\n",
      " 'g37 convertible' 'q60 convertible' 'cts wagon' 'g37 coupe' 'q60 coupe'\n",
      " 'beetle convertible' 'tsx sport wagon' 'promaster cargo van'\n",
      " 'granturismo convertible' 'cts-v wagon' 'ram van' 'transit van'\n",
      " 'navitgation']\n"
     ]
    }
   ],
   "source": [
    "data_raw.body.replace(regex=r'.*cab.*', value='truck', inplace=True)\n",
    "print(data_raw.body.unique())"
   ]
  },
  {
   "cell_type": "code",
   "execution_count": 24,
   "id": "25b3ac31",
   "metadata": {},
   "outputs": [
    {
     "name": "stdout",
     "output_type": "stream",
     "text": [
      "['suv' 'sedan' 'convertible' 'coupe' 'wagon' 'hatchback' 'truck' 'g sedan'\n",
      " 'van' nan 'navitgation']\n"
     ]
    }
   ],
   "source": [
    "data_raw.body.replace(regex=r'.*oup.*', value='coupe', inplace=True)\n",
    "data_raw.body.replace(regex=r'.*van.*', value='van', inplace=True)\n",
    "data_raw.body.replace(regex=r'.*convertible.*', value='convertible', inplace=True)\n",
    "data_raw.body.replace(regex=r'.*crew.*', value ='truck', inplace=True)\n",
    "data_raw.body.replace(regex=r'.*wagon.*', value='wagon', inplace=True)\n",
    "\n",
    "print(data_raw.body.unique())"
   ]
  },
  {
   "cell_type": "code",
   "execution_count": 25,
   "id": "56f83ab3",
   "metadata": {},
   "outputs": [
    {
     "name": "stdout",
     "output_type": "stream",
     "text": [
      "        year        make  model                    trim         body  \\\n",
      "408161  2015  volkswagen  Jetta  SE PZEV w/Connectivity  navitgation   \n",
      "417835  2015  volkswagen  Jetta  SE PZEV w/Connectivity  navitgation   \n",
      "421289  2015  volkswagen  Jetta  SE PZEV w/Connectivity  navitgation   \n",
      "424161  2015  volkswagen  Jetta  SE PZEV w/Connectivity  navitgation   \n",
      "427040  2015  volkswagen  Jetta  SE PZEV w/Connectivity  navitgation   \n",
      "427043  2015  volkswagen  Jetta  SE PZEV w/Connectivity  navitgation   \n",
      "434424  2015  volkswagen  Jetta  SE PZEV w/Connectivity  navitgation   \n",
      "444501  2015  volkswagen  Jetta  SE PZEV w/Connectivity  navitgation   \n",
      "453794  2015  volkswagen  Jetta  SE PZEV w/Connectivity  navitgation   \n",
      "461597  2015  volkswagen  Jetta  SE PZEV w/Connectivity  navitgation   \n",
      "461612  2015  volkswagen  Jetta  SE PZEV w/Connectivity  navitgation   \n",
      "492484  2015  volkswagen  Jetta  SE PZEV w/Connectivity  navitgation   \n",
      "497008  2015  volkswagen  Jetta  SE PZEV w/Connectivity  navitgation   \n",
      "497011  2015  volkswagen  Jetta  SE PZEV w/Connectivity  navitgation   \n",
      "499083  2015  volkswagen  Jetta  SE PZEV w/Connectivity  navitgation   \n",
      "501455  2015  volkswagen  Jetta  SE PZEV w/Connectivity  navitgation   \n",
      "505299  2015  volkswagen  Jetta  SE PZEV w/Connectivity  navitgation   \n",
      "505306  2015  volkswagen  Jetta  SE PZEV w/Connectivity  navitgation   \n",
      "520461  2015  volkswagen  Jetta  SE PZEV w/Connectivity  navitgation   \n",
      "528996  2015  volkswagen  Jetta  SE PZEV w/Connectivity  navitgation   \n",
      "529009  2015  volkswagen  Jetta  SE PZEV w/Connectivity  navitgation   \n",
      "529013  2015  volkswagen  Jetta  SE PZEV w/Connectivity  navitgation   \n",
      "529622  2015  volkswagen  Jetta  SE PZEV w/Connectivity  navitgation   \n",
      "548784  2015  volkswagen  Jetta  SE PZEV w/Connectivity  navitgation   \n",
      "551222  2015  volkswagen  Jetta  SE PZEV w/Connectivity  navitgation   \n",
      "554710  2015  volkswagen  Jetta  SE PZEV w/Connectivity  navitgation   \n",
      "\n",
      "       transmission        vin              state  condition  odometer  color  \\\n",
      "408161        Sedan  automatic  3vwd17aj4fm201708        NaN      46.0   4802   \n",
      "417835        Sedan  automatic  3vwd17aj2fm258506        NaN       1.0   9410   \n",
      "421289        Sedan  automatic  3vwd17aj3fm276741        NaN      46.0   1167   \n",
      "424161        Sedan  automatic  3vwd17aj2fm285365        NaN       1.0   2172   \n",
      "427040        Sedan  automatic  3vwd17aj0fm227318        NaN      41.0  14872   \n",
      "427043        Sedan  automatic  3vwd17aj6fm218641        NaN      49.0  12655   \n",
      "434424        Sedan  automatic  3vwd17aj7fm223475        NaN      46.0  15719   \n",
      "444501        Sedan  automatic  3vwd17aj5fm297123        NaN       2.0   6388   \n",
      "453794        Sedan  automatic  3vwd17aj5fm219943        NaN      44.0  16633   \n",
      "461597        Sedan  automatic  3vwd17aj9fm219766        NaN      44.0  11034   \n",
      "461612        Sedan        NaN  3vwd17aj3fm259017        NaN      46.0   2711   \n",
      "492484        sedan  automatic  3vwd17aj5fm206111        NaN       2.0   6864   \n",
      "497008        sedan  automatic  3vwd17aj5fm273601        NaN      28.0    339   \n",
      "497011        sedan  automatic  3vwd17aj5fm221322        NaN      48.0  18384   \n",
      "499083        sedan  automatic  3vwd17aj5fm268964        NaN       2.0   9887   \n",
      "501455        sedan  automatic  3vwd17aj6fm231972        NaN      38.0   9837   \n",
      "505299        sedan        NaN  3vwd17aj7fm222388        NaN      36.0  20379   \n",
      "505306        sedan  automatic  3vwd17aj7fm218440        NaN      42.0  20627   \n",
      "520461        sedan  automatic  3vwd17ajxfm315938        NaN       1.0    721   \n",
      "528996        sedan  automatic  3vwd17aj7fm229552        NaN      38.0   6158   \n",
      "529009        sedan        NaN  3vwd17aj8fm298895        NaN       2.0   2817   \n",
      "529013        sedan  automatic  3vwd17aj4fm236636        NaN       5.0   5705   \n",
      "529622        sedan  automatic  3vwd17aj5fm225953        NaN      41.0  18561   \n",
      "548784        sedan  automatic  3vwd17aj7fm326640        NaN       2.0   2846   \n",
      "551222        sedan        NaN  3vwd17aj8fm239622        NaN       2.0   9562   \n",
      "554710        sedan  automatic  3vwd17aj2fm261566        NaN      48.0   5001   \n",
      "\n",
      "       interior seller  mmr  sellingprice saledate   day saledate_drop  \\\n",
      "408161   silver   gray  NaN       13200.0    16500  1650            00   \n",
      "417835    white   gray  NaN       13300.0    10500  1050            00   \n",
      "421289     blue  black  NaN       13200.0    12700  1270            00   \n",
      "424161     gray  black  NaN       14050.0     8250  8250             0   \n",
      "427040     gray  black  NaN       13700.0    14300  1430            00   \n",
      "427043      red  black  NaN       13850.0    14500  1450            00   \n",
      "434424     blue  black  NaN       13650.0    13500  1350            00   \n",
      "444501    white  black  NaN       13850.0    10700  1070            00   \n",
      "453794   silver  black  NaN       13600.0    13600  1360            00   \n",
      "461597    black  black  NaN       13900.0    13000  1300            00   \n",
      "461612    white  black  NaN       14250.0    14000  1400            00   \n",
      "492484     gray  black  NaN       14000.0     9800  9800             0   \n",
      "497008    black  black  NaN       14300.0    12900  1290            00   \n",
      "497011   silver  black  NaN       13550.0    13500  1350            00   \n",
      "499083      red  black  NaN       13900.0     9900  9900             0   \n",
      "501455      red  black  NaN       13500.0    12900  1290            00   \n",
      "505299   silver  black  NaN       13600.0    13500  1350            00   \n",
      "505306    white  black  NaN       13600.0    13500  1350            00   \n",
      "520461     blue   gray  NaN       14100.0     8500  8500             0   \n",
      "528996    black  black  NaN       13650.0    13400  1340            00   \n",
      "529009      red  black  NaN       13750.0    12200  1220            00   \n",
      "529013        —  black  NaN       13400.0    15250  1525            50   \n",
      "529622    black  black  NaN       13200.0    13100  1310            00   \n",
      "548784     blue  black  NaN       13600.0     7500  7500             0   \n",
      "551222   silver  black  NaN       13200.0    12100  1210            00   \n",
      "554710     blue   gray  NaN       13400.0    13600  1360            00   \n",
      "\n",
      "        mmr_diff  \n",
      "408161       NaN  \n",
      "417835       NaN  \n",
      "421289       NaN  \n",
      "424161       NaN  \n",
      "427040       NaN  \n",
      "427043       NaN  \n",
      "434424       NaN  \n",
      "444501       NaN  \n",
      "453794       NaN  \n",
      "461597       NaN  \n",
      "461612       NaN  \n",
      "492484       NaN  \n",
      "497008       NaN  \n",
      "497011       NaN  \n",
      "499083       NaN  \n",
      "501455       NaN  \n",
      "505299       NaN  \n",
      "505306       NaN  \n",
      "520461       NaN  \n",
      "528996       NaN  \n",
      "529009       NaN  \n",
      "529013       NaN  \n",
      "529622       NaN  \n",
      "548784       NaN  \n",
      "551222       NaN  \n",
      "554710       NaN  \n"
     ]
    }
   ],
   "source": [
    "print(data_raw[data_raw.body == 'navitgation'])"
   ]
  },
  {
   "cell_type": "code",
   "execution_count": 26,
   "id": "5c81ec02",
   "metadata": {},
   "outputs": [
    {
     "name": "stdout",
     "output_type": "stream",
     "text": [
      "['suv' 'sedan' 'convertible' 'coupe' 'wagon' 'hatchback' 'truck' 'van' nan]\n"
     ]
    }
   ],
   "source": [
    "data_raw.body.replace('g sedan', 'sedan', inplace=True)\n",
    "data_raw.body.replace('navitgation', 'sedan', inplace=True)\n",
    "print(data_raw.body.unique())\n"
   ]
  },
  {
   "cell_type": "code",
   "execution_count": null,
   "id": "de901980",
   "metadata": {},
   "outputs": [],
   "source": []
  },
  {
   "cell_type": "code",
   "execution_count": 29,
   "id": "5880245d",
   "metadata": {},
   "outputs": [
    {
     "name": "stdout",
     "output_type": "stream",
     "text": [
      "['Tue ' 'Thu ' 'Wed ' 'Fri ' 'Mon ' 'Sat ' 'Sun ' nan '1650' '1050' '1270'\n",
      " '8250' '1430' '1450' '1350' '1070' '1360' '1300' '1400' '9800' '1290'\n",
      " '9900' '8500' '1340' '1220' '1525' '1310' '7500' '1210']\n"
     ]
    }
   ],
   "source": [
    "print(data_raw.day.unique())\n",
    "day_values = data_raw.day.unique()\n",
    "sus_days = day_values[7:]\n"
   ]
  },
  {
   "cell_type": "code",
   "execution_count": 34,
   "id": "adf88d00",
   "metadata": {},
   "outputs": [
    {
     "name": "stdout",
     "output_type": "stream",
     "text": [
      "        year        make    model                    trim   body transmission  \\\n",
      "306447  2013     hyundai   Sonata                     GLS  sedan    automatic   \n",
      "406524  2013    chrysler      300                    Base  sedan    automatic   \n",
      "408161  2015  volkswagen    Jetta  SE PZEV w/Connectivity  sedan        Sedan   \n",
      "417835  2015  volkswagen    Jetta  SE PZEV w/Connectivity  sedan        Sedan   \n",
      "421289  2015  volkswagen    Jetta  SE PZEV w/Connectivity  sedan        Sedan   \n",
      "422358  2013     hyundai   Sonata                     GLS  sedan          NaN   \n",
      "424161  2015  volkswagen    Jetta  SE PZEV w/Connectivity  sedan        Sedan   \n",
      "427040  2015  volkswagen    Jetta  SE PZEV w/Connectivity  sedan        Sedan   \n",
      "427043  2015  volkswagen    Jetta  SE PZEV w/Connectivity  sedan        Sedan   \n",
      "429644  2013    chrysler      200                 Touring  sedan    automatic   \n",
      "429660  2013       dodge  Avenger                     SXT  sedan    automatic   \n",
      "429786  2013     hyundai   Accent                     GLS  sedan    automatic   \n",
      "431905  2013         kia     Soul                    Base  wagon    automatic   \n",
      "434424  2015  volkswagen    Jetta  SE PZEV w/Connectivity  sedan        Sedan   \n",
      "444501  2015  volkswagen    Jetta  SE PZEV w/Connectivity  sedan        Sedan   \n",
      "453794  2015  volkswagen    Jetta  SE PZEV w/Connectivity  sedan        Sedan   \n",
      "457035  2014     hyundai  Elantra                      SE  sedan    automatic   \n",
      "457803  2013       dodge  Charger                      SE  sedan    automatic   \n",
      "461597  2015  volkswagen    Jetta  SE PZEV w/Connectivity  sedan        Sedan   \n",
      "461612  2015  volkswagen    Jetta  SE PZEV w/Connectivity  sedan        Sedan   \n",
      "492484  2015  volkswagen    Jetta  SE PZEV w/Connectivity  sedan        sedan   \n",
      "497008  2015  volkswagen    Jetta  SE PZEV w/Connectivity  sedan        sedan   \n",
      "497011  2015  volkswagen    Jetta  SE PZEV w/Connectivity  sedan        sedan   \n",
      "499083  2015  volkswagen    Jetta  SE PZEV w/Connectivity  sedan        sedan   \n",
      "501455  2015  volkswagen    Jetta  SE PZEV w/Connectivity  sedan        sedan   \n",
      "505299  2015  volkswagen    Jetta  SE PZEV w/Connectivity  sedan        sedan   \n",
      "505306  2015  volkswagen    Jetta  SE PZEV w/Connectivity  sedan        sedan   \n",
      "520461  2015  volkswagen    Jetta  SE PZEV w/Connectivity  sedan        sedan   \n",
      "522495  2012        ford   Fusion                     SEL  sedan    automatic   \n",
      "528996  2015  volkswagen    Jetta  SE PZEV w/Connectivity  sedan        sedan   \n",
      "529009  2015  volkswagen    Jetta  SE PZEV w/Connectivity  sedan        sedan   \n",
      "529013  2015  volkswagen    Jetta  SE PZEV w/Connectivity  sedan        sedan   \n",
      "529622  2015  volkswagen    Jetta  SE PZEV w/Connectivity  sedan        sedan   \n",
      "537706  2012         kia    Forte                      LX  sedan    automatic   \n",
      "543129  2014     hyundai   Accent                     GLS  sedan    automatic   \n",
      "548784  2015  volkswagen    Jetta  SE PZEV w/Connectivity  sedan        sedan   \n",
      "551222  2015  volkswagen    Jetta  SE PZEV w/Connectivity  sedan        sedan   \n",
      "554710  2015  volkswagen    Jetta  SE PZEV w/Connectivity  sedan        sedan   \n",
      "\n",
      "                      vin              state  condition  odometer   color  \\\n",
      "306447  5npeb4ac6dh687932                 il       19.0   37254.0    gray   \n",
      "406524  2c3ccaag9dh723146                 il       27.0   44208.0  silver   \n",
      "408161          automatic  3vwd17aj4fm201708        NaN      46.0    4802   \n",
      "417835          automatic  3vwd17aj2fm258506        NaN       1.0    9410   \n",
      "421289          automatic  3vwd17aj3fm276741        NaN      46.0    1167   \n",
      "422358  5npeb4ac3dh735368                 az       28.0   44299.0    blue   \n",
      "424161          automatic  3vwd17aj2fm285365        NaN       1.0    2172   \n",
      "427040          automatic  3vwd17aj0fm227318        NaN      41.0   14872   \n",
      "427043          automatic  3vwd17aj6fm218641        NaN      49.0   12655   \n",
      "429644  1c3ccbbb9dn718531                 il       25.0   47344.0   white   \n",
      "429660  1c3cdzcg5dn741076                 il       34.0   44525.0    gray   \n",
      "429786  kmhct4ae7du450468                 il        3.0   43135.0  silver   \n",
      "431905  kndjt2a5xd7765280                 va       19.0   29465.0  silver   \n",
      "434424          automatic  3vwd17aj7fm223475        NaN      46.0   15719   \n",
      "444501          automatic  3vwd17aj5fm297123        NaN       2.0    6388   \n",
      "453794          automatic  3vwd17aj5fm219943        NaN      44.0   16633   \n",
      "457035  5npdh4ae3eh504144                 il       19.0   20775.0   white   \n",
      "457803  2c3cdxbg6dh688757                 il       19.0   45355.0   white   \n",
      "461597          automatic  3vwd17aj9fm219766        NaN      44.0   11034   \n",
      "461612                NaN  3vwd17aj3fm259017        NaN      46.0    2711   \n",
      "492484          automatic  3vwd17aj5fm206111        NaN       2.0    6864   \n",
      "497008          automatic  3vwd17aj5fm273601        NaN      28.0     339   \n",
      "497011          automatic  3vwd17aj5fm221322        NaN      48.0   18384   \n",
      "499083          automatic  3vwd17aj5fm268964        NaN       2.0    9887   \n",
      "501455          automatic  3vwd17aj6fm231972        NaN      38.0    9837   \n",
      "505299                NaN  3vwd17aj7fm222388        NaN      36.0   20379   \n",
      "505306          automatic  3vwd17aj7fm218440        NaN      42.0   20627   \n",
      "520461          automatic  3vwd17ajxfm315938        NaN       1.0     721   \n",
      "522495  3fahp0jg5cr241590                 va       26.0   51648.0   black   \n",
      "528996          automatic  3vwd17aj7fm229552        NaN      38.0    6158   \n",
      "529009                NaN  3vwd17aj8fm298895        NaN       2.0    2817   \n",
      "529013          automatic  3vwd17aj4fm236636        NaN       5.0    5705   \n",
      "529622          automatic  3vwd17aj5fm225953        NaN      41.0   18561   \n",
      "537706  knaft4a22c5559983                 md       25.0   30927.0  silver   \n",
      "543129  kmhct4ae0eu650738                 il       19.0   26379.0    gray   \n",
      "548784          automatic  3vwd17aj7fm326640        NaN       2.0    2846   \n",
      "551222                NaN  3vwd17aj8fm239622        NaN       2.0    9562   \n",
      "554710          automatic  3vwd17aj2fm261566        NaN      48.0    5001   \n",
      "\n",
      "       interior   seller  mmr  sellingprice saledate   day saledate_drop  \\\n",
      "306447     gray  kfl llc  NaN           NaN      NaN   NaN           NaN   \n",
      "406524    black  kfl llc  NaN           NaN      NaN   NaN           NaN   \n",
      "408161   silver     gray  NaN       13200.0    16500  1650            00   \n",
      "417835    white     gray  NaN       13300.0    10500  1050            00   \n",
      "421289     blue    black  NaN       13200.0    12700  1270            00   \n",
      "422358     gray  kfl llc  NaN           NaN      NaN   NaN           NaN   \n",
      "424161     gray    black  NaN       14050.0     8250  8250             0   \n",
      "427040     gray    black  NaN       13700.0    14300  1430            00   \n",
      "427043      red    black  NaN       13850.0    14500  1450            00   \n",
      "429644    black  kfl llc  NaN           NaN      NaN   NaN           NaN   \n",
      "429660    black  kfl llc  NaN           NaN      NaN   NaN           NaN   \n",
      "429786     gray  kfl llc  NaN           NaN      NaN   NaN           NaN   \n",
      "431905    black  kfl llc  NaN           NaN      NaN   NaN           NaN   \n",
      "434424     blue    black  NaN       13650.0    13500  1350            00   \n",
      "444501    white    black  NaN       13850.0    10700  1070            00   \n",
      "453794   silver    black  NaN       13600.0    13600  1360            00   \n",
      "457035        —  kfl llc  NaN           NaN      NaN   NaN           NaN   \n",
      "457803    black  kfl llc  NaN           NaN      NaN   NaN           NaN   \n",
      "461597    black    black  NaN       13900.0    13000  1300            00   \n",
      "461612    white    black  NaN       14250.0    14000  1400            00   \n",
      "492484     gray    black  NaN       14000.0     9800  9800             0   \n",
      "497008    black    black  NaN       14300.0    12900  1290            00   \n",
      "497011   silver    black  NaN       13550.0    13500  1350            00   \n",
      "499083      red    black  NaN       13900.0     9900  9900             0   \n",
      "501455      red    black  NaN       13500.0    12900  1290            00   \n",
      "505299   silver    black  NaN       13600.0    13500  1350            00   \n",
      "505306    white    black  NaN       13600.0    13500  1350            00   \n",
      "520461     blue     gray  NaN       14100.0     8500  8500             0   \n",
      "522495     gray  kfl llc  NaN           NaN      NaN   NaN           NaN   \n",
      "528996    black    black  NaN       13650.0    13400  1340            00   \n",
      "529009      red    black  NaN       13750.0    12200  1220            00   \n",
      "529013        —    black  NaN       13400.0    15250  1525            50   \n",
      "529622    black    black  NaN       13200.0    13100  1310            00   \n",
      "537706     gray  kfl llc  NaN           NaN      NaN   NaN           NaN   \n",
      "543129     gray  kfl llc  NaN           NaN      NaN   NaN           NaN   \n",
      "548784     blue    black  NaN       13600.0     7500  7500             0   \n",
      "551222   silver    black  NaN       13200.0    12100  1210            00   \n",
      "554710     blue     gray  NaN       13400.0    13600  1360            00   \n",
      "\n",
      "        mmr_diff  \n",
      "306447       NaN  \n",
      "406524       NaN  \n",
      "408161       NaN  \n",
      "417835       NaN  \n",
      "421289       NaN  \n",
      "422358       NaN  \n",
      "424161       NaN  \n",
      "427040       NaN  \n",
      "427043       NaN  \n",
      "429644       NaN  \n",
      "429660       NaN  \n",
      "429786       NaN  \n",
      "431905       NaN  \n",
      "434424       NaN  \n",
      "444501       NaN  \n",
      "453794       NaN  \n",
      "457035       NaN  \n",
      "457803       NaN  \n",
      "461597       NaN  \n",
      "461612       NaN  \n",
      "492484       NaN  \n",
      "497008       NaN  \n",
      "497011       NaN  \n",
      "499083       NaN  \n",
      "501455       NaN  \n",
      "505299       NaN  \n",
      "505306       NaN  \n",
      "520461       NaN  \n",
      "522495       NaN  \n",
      "528996       NaN  \n",
      "529009       NaN  \n",
      "529013       NaN  \n",
      "529622       NaN  \n",
      "537706       NaN  \n",
      "543129       NaN  \n",
      "548784       NaN  \n",
      "551222       NaN  \n",
      "554710       NaN  \n",
      "(558837, 19)\n"
     ]
    }
   ],
   "source": [
    "sus_data = data_raw[data_raw.day.isin(sus_days)]\n",
    "print(sus_data)\n",
    "print(data_raw.shape)"
   ]
  },
  {
   "cell_type": "code",
   "execution_count": 40,
   "id": "d181159e",
   "metadata": {},
   "outputs": [
    {
     "name": "stdout",
     "output_type": "stream",
     "text": [
      "558799\n",
      "(558837, 19)\n"
     ]
    }
   ],
   "source": [
    "# 38 null values out of half a million, data entry errors mostly around the volkswagon jetta. \n",
    "# dropping null values for ease of use with a half million rows i think i can drop 38\n",
    "print(data_raw.mmr.count())\n",
    "print(data_raw.shape)\n",
    "clean_data =data_raw.dropna(subset='mmr')"
   ]
  },
  {
   "cell_type": "code",
   "execution_count": 41,
   "id": "b65e6643",
   "metadata": {},
   "outputs": [
    {
     "name": "stdout",
     "output_type": "stream",
     "text": [
      "(558799, 19)\n",
      "558799\n"
     ]
    }
   ],
   "source": [
    "print(clean_data.shape)\n",
    "print(clean_data.mmr.count())"
   ]
  },
  {
   "cell_type": "code",
   "execution_count": 45,
   "id": "f4dd5410",
   "metadata": {},
   "outputs": [
    {
     "name": "stdout",
     "output_type": "stream",
     "text": [
      "['ca' 'tx' 'pa' 'mn' 'az' 'wi' 'tn' 'md' 'fl' 'ne' 'nj' 'nv' 'oh' 'mi'\n",
      " 'ga' 'va' 'sc' 'nc' 'in' 'il' 'co' 'ut' 'mo' 'ny' 'ma' 'pr' 'or' 'la'\n",
      " 'wa' 'hi' 'qc' 'ab' 'on' 'ok' 'ms' 'nm' 'al' 'ns']\n",
      "38\n"
     ]
    }
   ],
   "source": [
    "print(clean_data.state.unique())\n",
    "print(len(clean_data.state.unique()))"
   ]
  },
  {
   "cell_type": "code",
   "execution_count": 42,
   "id": "a2ecc0d4",
   "metadata": {},
   "outputs": [],
   "source": [
    "clean_data.to_csv('clean_vehicle_data.csv')"
   ]
  }
 ],
 "metadata": {
  "kernelspec": {
   "display_name": "Python 3 (ipykernel)",
   "language": "python",
   "name": "python3"
  },
  "language_info": {
   "codemirror_mode": {
    "name": "ipython",
    "version": 3
   },
   "file_extension": ".py",
   "mimetype": "text/x-python",
   "name": "python",
   "nbconvert_exporter": "python",
   "pygments_lexer": "ipython3",
   "version": "3.9.13"
  }
 },
 "nbformat": 4,
 "nbformat_minor": 5
}
